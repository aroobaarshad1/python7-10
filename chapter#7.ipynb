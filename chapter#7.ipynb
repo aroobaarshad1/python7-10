{
 "cells": [
  {
   "cell_type": "markdown",
   "id": "b4145922",
   "metadata": {},
   "source": [
    "# Chapter#7"
   ]
  },
  {
   "cell_type": "code",
   "execution_count": 8,
   "id": "0da96309",
   "metadata": {},
   "outputs": [
    {
     "name": "stdout",
     "output_type": "stream",
     "text": [
      "<_io.TextIOWrapper name='sample.txt' mode='r' encoding='cp1252'>\n"
     ]
    }
   ],
   "source": [
    "fhand=open('sample.txt')\n",
    "print(fhand)"
   ]
  },
  {
   "cell_type": "markdown",
   "id": "e526dc75",
   "metadata": {},
   "source": [
    "# when files are missing"
   ]
  },
  {
   "cell_type": "code",
   "execution_count": 10,
   "id": "52c19d87",
   "metadata": {},
   "outputs": [
    {
     "ename": "FileNotFoundError",
     "evalue": "[Errno 2] No such file or directory: 'stuff.txt'",
     "output_type": "error",
     "traceback": [
      "\u001b[1;31m---------------------------------------------------------------------------\u001b[0m",
      "\u001b[1;31mFileNotFoundError\u001b[0m                         Traceback (most recent call last)",
      "Cell \u001b[1;32mIn[10], line 1\u001b[0m\n\u001b[1;32m----> 1\u001b[0m fhand \u001b[38;5;241m=\u001b[39m \u001b[38;5;28mopen\u001b[39m(\u001b[38;5;124m'\u001b[39m\u001b[38;5;124mstuff.txt\u001b[39m\u001b[38;5;124m'\u001b[39m)\n",
      "File \u001b[1;32m~\\anaconda3\\Lib\\site-packages\\IPython\\core\\interactiveshell.py:284\u001b[0m, in \u001b[0;36m_modified_open\u001b[1;34m(file, *args, **kwargs)\u001b[0m\n\u001b[0;32m    277\u001b[0m \u001b[38;5;28;01mif\u001b[39;00m file \u001b[38;5;129;01min\u001b[39;00m {\u001b[38;5;241m0\u001b[39m, \u001b[38;5;241m1\u001b[39m, \u001b[38;5;241m2\u001b[39m}:\n\u001b[0;32m    278\u001b[0m     \u001b[38;5;28;01mraise\u001b[39;00m \u001b[38;5;167;01mValueError\u001b[39;00m(\n\u001b[0;32m    279\u001b[0m         \u001b[38;5;124mf\u001b[39m\u001b[38;5;124m\"\u001b[39m\u001b[38;5;124mIPython won\u001b[39m\u001b[38;5;124m'\u001b[39m\u001b[38;5;124mt let you open fd=\u001b[39m\u001b[38;5;132;01m{\u001b[39;00mfile\u001b[38;5;132;01m}\u001b[39;00m\u001b[38;5;124m by default \u001b[39m\u001b[38;5;124m\"\u001b[39m\n\u001b[0;32m    280\u001b[0m         \u001b[38;5;124m\"\u001b[39m\u001b[38;5;124mas it is likely to crash IPython. If you know what you are doing, \u001b[39m\u001b[38;5;124m\"\u001b[39m\n\u001b[0;32m    281\u001b[0m         \u001b[38;5;124m\"\u001b[39m\u001b[38;5;124myou can use builtins\u001b[39m\u001b[38;5;124m'\u001b[39m\u001b[38;5;124m open.\u001b[39m\u001b[38;5;124m\"\u001b[39m\n\u001b[0;32m    282\u001b[0m     )\n\u001b[1;32m--> 284\u001b[0m \u001b[38;5;28;01mreturn\u001b[39;00m io_open(file, \u001b[38;5;241m*\u001b[39margs, \u001b[38;5;241m*\u001b[39m\u001b[38;5;241m*\u001b[39mkwargs)\n",
      "\u001b[1;31mFileNotFoundError\u001b[0m: [Errno 2] No such file or directory: 'stuff.txt'"
     ]
    }
   ],
   "source": [
    "fhand = open('stuff.txt')"
   ]
  },
  {
   "cell_type": "markdown",
   "id": "0f985cdc",
   "metadata": {},
   "source": [
    "# The newline Character"
   ]
  },
  {
   "cell_type": "code",
   "execution_count": 14,
   "id": "61386076",
   "metadata": {},
   "outputs": [
    {
     "name": "stdout",
     "output_type": "stream",
     "text": [
      "Hello\n",
      "World!\n"
     ]
    }
   ],
   "source": [
    "stuff = 'Hello\\nWorld!'\n",
    "stuff\n",
    "'Hello\\nWorld!'\n",
    "print(stuff)"
   ]
  },
  {
   "cell_type": "code",
   "execution_count": 15,
   "id": "16e1fd44",
   "metadata": {},
   "outputs": [
    {
     "name": "stdout",
     "output_type": "stream",
     "text": [
      "X\n",
      "Y\n"
     ]
    }
   ],
   "source": [
    "stuff = 'X\\nY'\n",
    "print(stuff)"
   ]
  },
  {
   "cell_type": "code",
   "execution_count": 16,
   "id": "60d1e937",
   "metadata": {},
   "outputs": [
    {
     "data": {
      "text/plain": [
       "3"
      ]
     },
     "execution_count": 16,
     "metadata": {},
     "output_type": "execute_result"
    }
   ],
   "source": [
    "len(stuff)"
   ]
  },
  {
   "cell_type": "markdown",
   "id": "84ddf7af",
   "metadata": {},
   "source": [
    "# File Handle as a Sequence"
   ]
  },
  {
   "cell_type": "code",
   "execution_count": 29,
   "id": "46241a3b",
   "metadata": {},
   "outputs": [
    {
     "name": "stdout",
     "output_type": "stream",
     "text": [
      "i made this document,to perform the practical. Apporach of the the python by which it can open the file this is a sample file.\n",
      "\n",
      "This will help to perform the practical.We can understand it by performing this. \n",
      "\n",
      "This is a text file which covers the proper practical of file opening.\n",
      "\n",
      "It is good enough to understand concept.\n",
      "\n",
      "This is good to practice the concept.\n",
      "\n"
     ]
    }
   ],
   "source": [
    "xfile = open('sample.txt')\n",
    "for the in xfile:\n",
    "    print(the)"
   ]
  },
  {
   "cell_type": "code",
   "execution_count": 18,
   "id": "1b27856e",
   "metadata": {},
   "outputs": [
    {
     "name": "stdout",
     "output_type": "stream",
     "text": [
      "Line Count: 5\n"
     ]
    }
   ],
   "source": [
    "fhand = open('sample.txt')\n",
    "count = 0\n",
    "for line in fhand:\n",
    "    count = count + 1\n",
    "print('Line Count:', count)"
   ]
  },
  {
   "cell_type": "markdown",
   "id": "182bc6d7",
   "metadata": {},
   "source": [
    "# Reading the *Whole* File"
   ]
  },
  {
   "cell_type": "code",
   "execution_count": 19,
   "id": "e98fad52",
   "metadata": {},
   "outputs": [
    {
     "name": "stdout",
     "output_type": "stream",
     "text": [
      "356\n"
     ]
    }
   ],
   "source": [
    "fhand = open('sample.txt')\n",
    "inp = fhand.read()\n",
    "print(len(inp))\n"
   ]
  },
  {
   "cell_type": "code",
   "execution_count": 20,
   "id": "908d9b31",
   "metadata": {},
   "outputs": [
    {
     "name": "stdout",
     "output_type": "stream",
     "text": [
      "i made this document\n"
     ]
    }
   ],
   "source": [
    "print(inp[:20])"
   ]
  },
  {
   "cell_type": "markdown",
   "id": "0298f1e2",
   "metadata": {},
   "source": [
    "# Searching Through a File"
   ]
  },
  {
   "cell_type": "code",
   "execution_count": 28,
   "id": "2616d83d",
   "metadata": {},
   "outputs": [
    {
     "name": "stdout",
     "output_type": "stream",
     "text": [
      "This will help to perform the practical.We can understand it by performing this. \n",
      "\n",
      "This is a text file which covers the proper practical of file opening.\n",
      "\n",
      "This is good to practice the concept.\n",
      "\n"
     ]
    }
   ],
   "source": [
    "fhand = open('sample.txt')\n",
    "for line in fhand:\n",
    "    if line.startswith('This') :\n",
    "        print(line)\n"
   ]
  },
  {
   "cell_type": "code",
   "execution_count": 27,
   "id": "92c0192b",
   "metadata": {},
   "outputs": [
    {
     "name": "stdout",
     "output_type": "stream",
     "text": [
      "This will help to perform the practical.We can understand it by performing this.\n",
      "This is a text file which covers the proper practical of file opening.\n",
      "This is good to practice the concept.\n"
     ]
    }
   ],
   "source": [
    "fhand = open('sample.txt')\n",
    "for line in fhand:\n",
    "    line = line.rstrip()\n",
    "    if line.startswith('This') :\n",
    "        print(line)"
   ]
  },
  {
   "cell_type": "markdown",
   "id": "dfb81eb9",
   "metadata": {},
   "source": [
    "# Skipping with continue"
   ]
  },
  {
   "cell_type": "code",
   "execution_count": 26,
   "id": "4c04a1d3",
   "metadata": {},
   "outputs": [
    {
     "name": "stdout",
     "output_type": "stream",
     "text": [
      "This will help to perform the practical.We can understand it by performing this.\n",
      "This is a text file which covers the proper practical of file opening.\n",
      "This is good to practice the concept.\n"
     ]
    }
   ],
   "source": [
    "fhand = open('sample.txt')\n",
    "for line in fhand:\n",
    "    line = line.rstrip()\n",
    "    if not line.startswith('This') :\n",
    "        continue\n",
    "    print(line)\n"
   ]
  },
  {
   "cell_type": "markdown",
   "id": "bd77e4ea",
   "metadata": {},
   "source": [
    "# Using in to Select Lines"
   ]
  },
  {
   "cell_type": "code",
   "execution_count": 30,
   "id": "19cb95b4",
   "metadata": {},
   "outputs": [
    {
     "name": "stdout",
     "output_type": "stream",
     "text": [
      "This is good to practice the concept.\n"
     ]
    }
   ],
   "source": [
    "fhand = open('sample.txt')\n",
    "for line in fhand:\n",
    "    line = line.rstrip()\n",
    "    if not 'the' in line : \n",
    "        continue\n",
    "print(line)"
   ]
  },
  {
   "cell_type": "code",
   "execution_count": null,
   "id": "375b7d2f",
   "metadata": {},
   "outputs": [],
   "source": []
  }
 ],
 "metadata": {
  "kernelspec": {
   "display_name": "Python 3 (ipykernel)",
   "language": "python",
   "name": "python3"
  },
  "language_info": {
   "codemirror_mode": {
    "name": "ipython",
    "version": 3
   },
   "file_extension": ".py",
   "mimetype": "text/x-python",
   "name": "python",
   "nbconvert_exporter": "python",
   "pygments_lexer": "ipython3",
   "version": "3.11.4"
  }
 },
 "nbformat": 4,
 "nbformat_minor": 5
}
